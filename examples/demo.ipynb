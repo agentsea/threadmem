{
 "cells": [
  {
   "cell_type": "markdown",
   "metadata": {},
   "source": [
    "# ThreadMem: Multi-role persistent threads\n",
    "\n",
    "ThreadMem is a library for building multi-role persistent threads. Let's see how we can use it."
   ]
  },
  {
   "cell_type": "code",
   "execution_count": 1,
   "metadata": {},
   "outputs": [
    {
     "name": "stdout",
     "output_type": "stream",
     "text": [
      "\n",
      "!saving thread 55d6ef5a-95aa-421e-a01c-f4da8259b982\n",
      "\n",
      "!saving local db thread 55d6ef5a-95aa-421e-a01c-f4da8259b982\n",
      "Version updated to 09ddcba10e7e452df65600bbb48dad76b0ec20f11bb0082665e22022c83f267f\n"
     ]
    }
   ],
   "source": [
    "from threadmem import RoleThread, RoleMessage\n",
    "\n",
    "owner_id = \"random123\"\n",
    "public = True\n",
    "name = \"My thread\"\n",
    "metadata = {\"purpose\": \"demo\"}\n",
    "\n",
    "thread = RoleThread(owner_id=owner_id, public=public, name=name, metadata=metadata)"
   ]
  },
  {
   "cell_type": "markdown",
   "metadata": {},
   "source": [
    "Now, we can define the roles and start sending messages. The main point of this library is that all messages and threads are persistent, so we can use them across different sessions."
   ]
  },
  {
   "cell_type": "code",
   "execution_count": 2,
   "metadata": {},
   "outputs": [
    {
     "name": "stdout",
     "output_type": "stream",
     "text": [
      "\n",
      "!saving thread 55d6ef5a-95aa-421e-a01c-f4da8259b982\n",
      "\n",
      "!saving local db thread 55d6ef5a-95aa-421e-a01c-f4da8259b982\n",
      "Version updated to 3e7a8a902590db00e783625f205b38e111faa78cb1b7a891def52ca366837d37\n",
      "\n",
      "!saving thread 55d6ef5a-95aa-421e-a01c-f4da8259b982\n",
      "\n",
      "!saving local db thread 55d6ef5a-95aa-421e-a01c-f4da8259b982\n",
      "Version updated to f0686f1498b2e933e3f9082130ee01d97367eace7a60e6483fbcb9f2f04dbf9e\n",
      "\n",
      "!saving thread 55d6ef5a-95aa-421e-a01c-f4da8259b982\n",
      "\n",
      "!saving local db thread 55d6ef5a-95aa-421e-a01c-f4da8259b982\n",
      "Version updated to 51dba3755a6ace2a68666385b9a05f1284239b8f6a83b9f32e9eafdc0b54f32e\n",
      "\n",
      "!saving thread 55d6ef5a-95aa-421e-a01c-f4da8259b982\n",
      "\n",
      "!saving local db thread 55d6ef5a-95aa-421e-a01c-f4da8259b982\n",
      "Version updated to 3dcc79591dbca8b6adb4b43526beaf29cc18035faa27b6314e5835cb21b6e821\n",
      "[RoleMessage(role='user', text='Hey there!', thread_id='55d6ef5a-95aa-421e-a01c-f4da8259b982', images=[], private=False, created=1712140700.1268191, id='d7ffee15-40d0-46e6-8fed-246e79214bd2', metadata=None), RoleMessage(role='assistant', text='Hello!', thread_id='55d6ef5a-95aa-421e-a01c-f4da8259b982', images=[], private=False, created=1712140700.1397882, id='db70c12d-d8bb-4c99-86d6-4755c3dcfab3', metadata=None), RoleMessage(role='user', text='What do you see on this picture?', thread_id='55d6ef5a-95aa-421e-a01c-f4da8259b982', images=['https://upload.wikimedia.org/wikipedia/commons/c/c7/Tabby_cat_with_blue_eyes-3336579.jpg'], private=False, created=1712140700.1454248, id='e553c02b-706a-4a61-81c9-e81e10a077f0', metadata=None), RoleMessage(role='assistant', text='I see a cat with blue eyes.', thread_id='55d6ef5a-95aa-421e-a01c-f4da8259b982', images=[], private=False, created=1712140700.151882, id='5e43bcc6-386f-4843-9113-0949ef38b1e1', metadata=None)]\n"
     ]
    }
   ],
   "source": [
    "role_user = \"user\"\n",
    "role_assistant = \"assistant\"\n",
    "\n",
    "thread.post(role=role_user, msg=\"Hey there!\")\n",
    "thread.post(role=role_assistant, msg=\"Hello!\")\n",
    "thread.post(role=role_user, msg=\"What do you see on this picture?\", images=[\"https://upload.wikimedia.org/wikipedia/commons/c/c7/Tabby_cat_with_blue_eyes-3336579.jpg\"])\n",
    "thread.post(role=role_assistant, msg=\"I see a cat with blue eyes.\")\n",
    "\n",
    "print(thread.messages())\n",
    "\n"
   ]
  },
  {
   "cell_type": "code",
   "execution_count": 3,
   "metadata": {},
   "outputs": [
    {
     "data": {
      "text/html": [
       "<img src=\"https://upload.wikimedia.org/wikipedia/commons/c/c7/Tabby_cat_with_blue_eyes-3336579.jpg\"/>"
      ],
      "text/plain": [
       "<IPython.core.display.Image object>"
      ]
     },
     "execution_count": 3,
     "metadata": {},
     "output_type": "execute_result"
    }
   ],
   "source": [
    "from IPython.display import Image\n",
    "Image(url=\"https://upload.wikimedia.org/wikipedia/commons/c/c7/Tabby_cat_with_blue_eyes-3336579.jpg\")\n"
   ]
  },
  {
   "cell_type": "markdown",
   "metadata": {},
   "source": [
    "The main use-case is builing passing this thread to LLMs. To do that, we support export to OpenAI dialog format."
   ]
  },
  {
   "cell_type": "code",
   "execution_count": 4,
   "metadata": {},
   "outputs": [
    {
     "data": {
      "text/plain": [
       "{'messages': [{'role': 'user', 'content': 'Hey there!'},\n",
       "  {'role': 'assistant', 'content': 'Hello!'},\n",
       "  {'role': 'user', 'content': 'What do you see on this picture?'},\n",
       "  {'role': 'assistant', 'content': 'I see a cat with blue eyes.'}]}"
      ]
     },
     "execution_count": 4,
     "metadata": {},
     "output_type": "execute_result"
    }
   ],
   "source": [
    "thread.to_openai()"
   ]
  },
  {
   "cell_type": "markdown",
   "metadata": {},
   "source": [
    "Threads support lots of handy functionality, like adding and removing roles, finding and deleting messages, and much more. Please see the [API reference](https://agentsea.github.io/threadmem/) for more details."
   ]
  }
 ],
 "metadata": {
  "kernelspec": {
   "display_name": "agentsea",
   "language": "python",
   "name": "python3"
  },
  "language_info": {
   "codemirror_mode": {
    "name": "ipython",
    "version": 3
   },
   "file_extension": ".py",
   "mimetype": "text/x-python",
   "name": "python",
   "nbconvert_exporter": "python",
   "pygments_lexer": "ipython3",
   "version": "3.12.1"
  }
 },
 "nbformat": 4,
 "nbformat_minor": 2
}
